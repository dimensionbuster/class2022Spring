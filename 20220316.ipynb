{
  "nbformat": 4,
  "nbformat_minor": 0,
  "metadata": {
    "colab": {
      "name": "20220316.ipynb",
      "provenance": [],
      "authorship_tag": "ABX9TyPlVMD7Gau6X8nH9DO9+O+7",
      "include_colab_link": true
    },
    "kernelspec": {
      "name": "python3",
      "display_name": "Python 3"
    },
    "language_info": {
      "name": "python"
    }
  },
  "cells": [
    {
      "cell_type": "markdown",
      "metadata": {
        "id": "view-in-github",
        "colab_type": "text"
      },
      "source": [
        "<a href=\"https://colab.research.google.com/github/dimensionbuster/class2022Spring/blob/main/20220316.ipynb\" target=\"_parent\"><img src=\"https://colab.research.google.com/assets/colab-badge.svg\" alt=\"Open In Colab\"/></a>"
      ]
    },
    {
      "cell_type": "code",
      "execution_count": null,
      "metadata": {
        "id": "kmlAvrKi-PrH"
      },
      "outputs": [],
      "source": [
        ""
      ]
    },
    {
      "cell_type": "markdown",
      "source": [
        "hugging face: 자연어처리용 model, dataset 등 제공 사이트\n",
        "\n",
        "gradio: 만든 모델을 쉽게 web application화 하기 위해 필요\n",
        "\n",
        "다룬 주제들: data types, list, functions, for loop, list comprehension etc...\n",
        "\n",
        "기본적인것들 + numpy, matplotlib 등 자주 사용되는 모듈... 아직은 대부분 아는 내용\n",
        "\n"
      ],
      "metadata": {
        "id": "rDSCLowNrQt8"
      }
    }
  ]
}