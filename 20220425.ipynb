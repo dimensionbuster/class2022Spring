{
  "nbformat": 4,
  "nbformat_minor": 0,
  "metadata": {
    "colab": {
      "name": "20220425.ipynb",
      "provenance": [],
      "authorship_tag": "ABX9TyNmenoIA+eaqi4rzQD9kMf7",
      "include_colab_link": true
    },
    "kernelspec": {
      "name": "python3",
      "display_name": "Python 3"
    },
    "language_info": {
      "name": "python"
    }
  },
  "cells": [
    {
      "cell_type": "markdown",
      "metadata": {
        "id": "view-in-github",
        "colab_type": "text"
      },
      "source": [
        "<a href=\"https://colab.research.google.com/github/dimensionbuster/class2022Spring/blob/main/20220425.ipynb\" target=\"_parent\"><img src=\"https://colab.research.google.com/assets/colab-badge.svg\" alt=\"Open In Colab\"/></a>"
      ]
    },
    {
      "cell_type": "markdown",
      "source": [
        "auto correlation: 어떤 시그널에 대해 특정 값(t) 만큼 시간차를 두고 자기 자신과의 correlation을 계산한것\n",
        "\n",
        "RME : "
      ],
      "metadata": {
        "id": "Xke38TSeEeAE"
      }
    },
    {
      "cell_type": "code",
      "source": [
        "import numpy as np\n",
        "\n",
        "x = np.random.rand(1, 5)\n",
        "rme = (np.sum([a**2 for a in x])/len(x))**0.5\n",
        "rme"
      ],
      "metadata": {
        "colab": {
          "base_uri": "https://localhost:8080/"
        },
        "id": "Q5ZQ5PaYCpA2",
        "outputId": "c2c7bed9-0ce5-4196-e037-3b8b4b8716b5"
      },
      "execution_count": 9,
      "outputs": [
        {
          "output_type": "execute_result",
          "data": {
            "text/plain": [
              "1.58197548506841"
            ]
          },
          "metadata": {},
          "execution_count": 9
        }
      ]
    }
  ]
}